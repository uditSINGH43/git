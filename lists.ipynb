{
 "cells": [
  {
   "cell_type": "code",
   "execution_count": 2,
   "metadata": {},
   "outputs": [],
   "source": [
    "x = [] # blank list\n",
    "x2 = [1,2,3]  # list of 3 elements\n",
    "x3= [1,2,'apple','green', 'anime'] # list of 5 elements\n"
   ]
  },
  {
   "attachments": {},
   "cell_type": "markdown",
   "metadata": {},
   "source": [
    "list is mutable, hetrogeneous and indexing is possible\n"
   ]
  },
  {
   "cell_type": "code",
   "execution_count": 4,
   "metadata": {},
   "outputs": [
    {
     "name": "stdout",
     "output_type": "stream",
     "text": [
      "[1, 2, 'apple', 'green', 'anime']\n"
     ]
    }
   ],
   "source": [
    "print(x3)"
   ]
  },
  {
   "cell_type": "code",
   "execution_count": 5,
   "metadata": {},
   "outputs": [
    {
     "data": {
      "text/plain": [
       "[1, 1, 1, 1, 1]"
      ]
     },
     "execution_count": 5,
     "metadata": {},
     "output_type": "execute_result"
    }
   ],
   "source": [
    "y = [1]\n",
    "y * 5"
   ]
  },
  {
   "cell_type": "code",
   "execution_count": 8,
   "metadata": {},
   "outputs": [
    {
     "name": "stdout",
     "output_type": "stream",
     "text": [
      "[1, 2, 3, 1, 2, 'apple', 'green', 'anime']\n"
     ]
    }
   ],
   "source": [
    "x6 = x2 + x3 # concatination\n",
    "print(x6)"
   ]
  },
  {
   "cell_type": "code",
   "execution_count": 18,
   "metadata": {},
   "outputs": [],
   "source": [
    "bad_movies = ['deshdrohi', 'humshakals','heropanti2', 'dhakad', 'radhe shyam']\n",
    "good_movies = ['wakanda forever','ant man quantumania','intersteller','godfather','shawshank redemption']"
   ]
  },
  {
   "cell_type": "code",
   "execution_count": 19,
   "metadata": {},
   "outputs": [
    {
     "name": "stdout",
     "output_type": "stream",
     "text": [
      "['wakanda forever', 'ant man quantumania', 'intersteller', 'godfather', 'shawshank redemption', 'deshdrohi', 'humshakals', 'heropanti2', 'dhakad', 'radhe shyam']\n"
     ]
    }
   ],
   "source": [
    "all_movies = good_movies + bad_movies\n",
    "print(all_movies)"
   ]
  },
  {
   "cell_type": "code",
   "execution_count": 21,
   "metadata": {},
   "outputs": [
    {
     "name": "stdout",
     "output_type": "stream",
     "text": [
      "['wakanda forever', 'ant man quantumania', 'intersteller', 'justice league snyder cut', 'justice league snyder cut', 'godfather', 'shawshank redemption', 'deshdrohi', 'humshakals', 'heropanti2', 'dhakad', 'radhe shyam']\n"
     ]
    }
   ],
   "source": [
    "all_movies.insert(3, 'justice league snyder cut')\n",
    "print(all_movies)"
   ]
  },
  {
   "cell_type": "code",
   "execution_count": 22,
   "metadata": {},
   "outputs": [
    {
     "name": "stdout",
     "output_type": "stream",
     "text": [
      "['wakanda forever', 'ant man quantumania', 'intersteller', 'justice league snyder cut', 'justice league snyder cut', 'godfather', 'shawshank redemption', 'deshdrohi', 'humshakals', 'heropanti2', 'dhakad', 'radhe shyam', 'fast and furious', '2 fast 2 furious', 'fast and furious: tokyo drift']\n"
     ]
    }
   ],
   "source": [
    "sequels = ['fast and furious', '2 fast 2 furious', 'fast and furious: tokyo drift']\n",
    "all_movies.extend(sequels)\n",
    "print(all_movies)"
   ]
  },
  {
   "cell_type": "code",
   "execution_count": 23,
   "metadata": {},
   "outputs": [
    {
     "data": {
      "text/plain": [
       "15"
      ]
     },
     "execution_count": 23,
     "metadata": {},
     "output_type": "execute_result"
    }
   ],
   "source": [
    "len(all_movies)"
   ]
  },
  {
   "cell_type": "code",
   "execution_count": 25,
   "metadata": {},
   "outputs": [
    {
     "data": {
      "text/plain": [
       "['wakanda forever',\n",
       " 'ant man quantumania',\n",
       " 'intersteller',\n",
       " 'justice league snyder cut',\n",
       " 'justice league snyder cut']"
      ]
     },
     "execution_count": 25,
     "metadata": {},
     "output_type": "execute_result"
    }
   ],
   "source": [
    "\n",
    "all_movies[:5]"
   ]
  },
  {
   "cell_type": "code",
   "execution_count": 26,
   "metadata": {},
   "outputs": [
    {
     "data": {
      "text/plain": [
       "['dhakad',\n",
       " 'radhe shyam',\n",
       " 'fast and furious',\n",
       " '2 fast 2 furious',\n",
       " 'fast and furious: tokyo drift']"
      ]
     },
     "execution_count": 26,
     "metadata": {},
     "output_type": "execute_result"
    }
   ],
   "source": [
    "all_movies[-5:]"
   ]
  },
  {
   "cell_type": "code",
   "execution_count": 28,
   "metadata": {},
   "outputs": [
    {
     "name": "stdout",
     "output_type": "stream",
     "text": [
      "['wakanda forever', 'ant man quantumania', 'intersteller', 'justice league snyder cut', 'jostice league', 'godfather', 'shawshank redemption', 'deshdrohi', 'humshakals', 'heropanti2', 'dhakad', 'radhe shyam', 'fast and furious', '2 fast 2 furious', 'fast and furious: tokyo drift']\n"
     ]
    }
   ],
   "source": [
    "all_movies[4] = 'jostice league'\n",
    "print(all_movies)"
   ]
  },
  {
   "cell_type": "code",
   "execution_count": 32,
   "metadata": {},
   "outputs": [
    {
     "name": "stdout",
     "output_type": "stream",
     "text": [
      "['fast and furious: tokyo drift', '2 fast 2 furious', 'fast and furious', 'radhe shyam', 'dhakad', 'heropanti2', 'humshakals', 'deshdrohi', 'shawshank redemption', 'godfather', 'jostice league', 'justice league snyder cut', 'intersteller', 'ant man quantumania', 'wakanda forever']\n"
     ]
    }
   ],
   "source": [
    "all_movies.reverse()\n",
    "print(all_movies)"
   ]
  },
  {
   "cell_type": "code",
   "execution_count": 34,
   "metadata": {},
   "outputs": [
    {
     "data": {
      "text/plain": [
       "['wakanda forever',\n",
       " 'ant man quantumania',\n",
       " 'intersteller',\n",
       " 'justice league snyder cut',\n",
       " 'jostice league',\n",
       " 'godfather',\n",
       " 'shawshank redemption',\n",
       " 'deshdrohi',\n",
       " 'humshakals',\n",
       " 'heropanti2',\n",
       " 'dhakad',\n",
       " 'radhe shyam',\n",
       " 'fast and furious',\n",
       " '2 fast 2 furious',\n",
       " 'fast and furious: tokyo drift']"
      ]
     },
     "execution_count": 34,
     "metadata": {},
     "output_type": "execute_result"
    }
   ],
   "source": [
    "all_movies[::-1]"
   ]
  },
  {
   "cell_type": "code",
   "execution_count": 35,
   "metadata": {},
   "outputs": [
    {
     "name": "stdout",
     "output_type": "stream",
     "text": [
      "['2 fast 2 furious', 'ant man quantumania', 'deshdrohi', 'dhakad', 'fast and furious', 'fast and furious: tokyo drift', 'godfather', 'heropanti2', 'humshakals', 'intersteller', 'jostice league', 'justice league snyder cut', 'radhe shyam', 'shawshank redemption', 'wakanda forever']\n"
     ]
    }
   ],
   "source": [
    "all_movies.sort()\n",
    "print(all_movies)"
   ]
  },
  {
   "cell_type": "code",
   "execution_count": 37,
   "metadata": {},
   "outputs": [
    {
     "name": "stdout",
     "output_type": "stream",
     "text": [
      "['wakanda forever', 'shawshank redemption', 'radhe shyam', 'justice league snyder cut', 'jostice league', 'intersteller', 'humshakals', 'heropanti2', 'godfather', 'fast and furious: tokyo drift', 'fast and furious', 'dhakad', 'deshdrohi', 'ant man quantumania', '2 fast 2 furious']\n"
     ]
    }
   ],
   "source": [
    "all_movies.sort(reverse=True)\n",
    "print(all_movies)"
   ]
  },
  {
   "cell_type": "code",
   "execution_count": 38,
   "metadata": {},
   "outputs": [],
   "source": [
    "import random as rd"
   ]
  },
  {
   "cell_type": "code",
   "execution_count": 39,
   "metadata": {},
   "outputs": [
    {
     "name": "stdout",
     "output_type": "stream",
     "text": [
      "['fast and furious', 'intersteller', 'deshdrohi', 'wakanda forever', 'humshakals', '2 fast 2 furious', 'radhe shyam', 'fast and furious: tokyo drift', 'justice league snyder cut', 'ant man quantumania', 'heropanti2', 'shawshank redemption', 'dhakad', 'godfather', 'jostice league']\n"
     ]
    }
   ],
   "source": [
    "rd.shuffle(all_movies)\n",
    "print(all_movies)"
   ]
  },
  {
   "cell_type": "code",
   "execution_count": 40,
   "metadata": {},
   "outputs": [
    {
     "data": {
      "text/plain": [
       "'2 fast 2 furious'"
      ]
     },
     "execution_count": 40,
     "metadata": {},
     "output_type": "execute_result"
    }
   ],
   "source": [
    "rd.choice(all_movies)"
   ]
  },
  {
   "cell_type": "code",
   "execution_count": null,
   "metadata": {},
   "outputs": [],
   "source": []
  }
 ],
 "metadata": {
  "kernelspec": {
   "display_name": "Python 3",
   "language": "python",
   "name": "python3"
  },
  "language_info": {
   "codemirror_mode": {
    "name": "ipython",
    "version": 3
   },
   "file_extension": ".py",
   "mimetype": "text/x-python",
   "name": "python",
   "nbconvert_exporter": "python",
   "pygments_lexer": "ipython3",
   "version": "3.10.10"
  },
  "orig_nbformat": 4,
  "vscode": {
   "interpreter": {
    "hash": "bf2f100d86b086eceb8718a68b9d8a01de589c124b12518e2048f21035027afe"
   }
  }
 },
 "nbformat": 4,
 "nbformat_minor": 2
}
