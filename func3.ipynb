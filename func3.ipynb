{
 "cells": [
  {
   "cell_type": "code",
   "execution_count": 3,
   "metadata": {},
   "outputs": [],
   "source": [
    "f = lambda x : x+3"
   ]
  },
  {
   "cell_type": "code",
   "execution_count": 4,
   "metadata": {},
   "outputs": [
    {
     "name": "stdout",
     "output_type": "stream",
     "text": [
      "6 27\n"
     ]
    }
   ],
   "source": [
    "print(f(3),f(24))"
   ]
  },
  {
   "cell_type": "code",
   "execution_count": 5,
   "metadata": {},
   "outputs": [
    {
     "name": "stdout",
     "output_type": "stream",
     "text": [
      "8 168\n"
     ]
    }
   ],
   "source": [
    "g = lambda x, y : x**2 +y +3\n",
    "print(g(2,1), g(12,21))"
   ]
  },
  {
   "cell_type": "code",
   "execution_count": 6,
   "metadata": {},
   "outputs": [
    {
     "name": "stdout",
     "output_type": "stream",
     "text": [
      "[15, 27, 29, 41, 62, 38, 73, 27, 119]\n"
     ]
    }
   ],
   "source": [
    "x = [20,32,34,46,67,43,78,32,124]\n",
    "# for beginners\n",
    "y = []\n",
    "for i in x:\n",
    "    y.append(i-5)\n",
    "print(y)"
   ]
  },
  {
   "cell_type": "code",
   "execution_count": 11,
   "metadata": {},
   "outputs": [
    {
     "data": {
      "text/plain": [
       "(15, 27, 29, 41, 62, 38, 73, 27, 119)"
      ]
     },
     "execution_count": 11,
     "metadata": {},
     "output_type": "execute_result"
    }
   ],
   "source": [
    "tuple(map(lambda i: i-5, x))"
   ]
  },
  {
   "attachments": {},
   "cell_type": "markdown",
   "metadata": {},
   "source": [
    "**-** work of map\n",
    "- do work of function in one liner\n",
    "- makes code faster\n",
    "- makes codes easy to read and good representation"
   ]
  },
  {
   "cell_type": "code",
   "execution_count": 16,
   "metadata": {},
   "outputs": [
    {
     "name": "stdout",
     "output_type": "stream",
     "text": [
      "[57.9396237474839, 32.526911934581186, 54.817880294662984, 26.832815729997478]\n"
     ]
    }
   ],
   "source": [
    "p = [21,23,43,24]\n",
    "b = [54,23,34,12]\n",
    "h = list(map(lambda a,b: (a**2 +b**2)**.5, p,b))\n",
    "print(h)"
   ]
  },
  {
   "cell_type": "code",
   "execution_count": 17,
   "metadata": {},
   "outputs": [
    {
     "name": "stdout",
     "output_type": "stream",
     "text": [
      "easy peesy lemon squeasy😏 [529, 1024, 16, 25, 9, 16, 1024]\n"
     ]
    }
   ],
   "source": [
    "### homework😔\n",
    "a = [23,32,4,5,3,4,32]\n",
    "s = list(map(lambda a: a**2,a))\n",
    "print(\"easy peesy lemon squeasy😏\",s)\n"
   ]
  },
  {
   "cell_type": "code",
   "execution_count": 18,
   "metadata": {},
   "outputs": [
    {
     "name": "stdout",
     "output_type": "stream",
     "text": [
      "[5, 5, 6, 7, 8, 6, 5]\n"
     ]
    }
   ],
   "source": [
    "a = [3,2,4,4,3,3,2,4,5,5,6,7,8,6,4,2,2,1,4,5]\n",
    "b =  list(filter(lambda i: i >=5,a))\n",
    "print(b)"
   ]
  },
  {
   "cell_type": "code",
   "execution_count": 19,
   "metadata": {},
   "outputs": [
    {
     "data": {
      "text/plain": [
       "[25, 25, 36, 49, 64, 36, 25]"
      ]
     },
     "execution_count": 19,
     "metadata": {},
     "output_type": "execute_result"
    }
   ],
   "source": [
    "list(map(lambda i: i**2, filter(lambda i: i >=5,a)))"
   ]
  }
 ],
 "metadata": {
  "kernelspec": {
   "display_name": "Python 3",
   "language": "python",
   "name": "python3"
  },
  "language_info": {
   "codemirror_mode": {
    "name": "ipython",
    "version": 3
   },
   "file_extension": ".py",
   "mimetype": "text/x-python",
   "name": "python",
   "nbconvert_exporter": "python",
   "pygments_lexer": "ipython3",
   "version": "3.9.13"
  },
  "orig_nbformat": 4,
  "vscode": {
   "interpreter": {
    "hash": "3ae485a1c4d68c3adf0d3266c3715cbc8e763f16da5c66ddfd038f6be2e879fa"
   }
  }
 },
 "nbformat": 4,
 "nbformat_minor": 2
}
