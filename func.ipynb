{
 "cells": [
  {
   "cell_type": "code",
   "execution_count": 1,
   "metadata": {},
   "outputs": [],
   "source": [
    "def pizza(bread, cheese, toppings,sauces):\n",
    "    return f'your pizza has{bread}bread,{cheese} cheese,has {sauces} sauces and {toppings} toppings '\n"
   ]
  },
  {
   "cell_type": "code",
   "execution_count": 3,
   "metadata": {},
   "outputs": [
    {
     "data": {
      "text/plain": [
       "'your pizza haswheatbread,chedder cheese,has red sauce sauces and True toppings '"
      ]
     },
     "execution_count": 3,
     "metadata": {},
     "output_type": "execute_result"
    }
   ],
   "source": [
    "pizza('wheat','chedder',True, 'red sauce')"
   ]
  },
  {
   "cell_type": "code",
   "execution_count": null,
   "metadata": {},
   "outputs": [],
   "source": []
  },
  {
   "cell_type": "code",
   "execution_count": 5,
   "metadata": {},
   "outputs": [],
   "source": [
    "def total(x,y,z):\n",
    "    return x+y+z*0.01"
   ]
  },
  {
   "cell_type": "code",
   "execution_count": 6,
   "metadata": {},
   "outputs": [
    {
     "name": "stdout",
     "output_type": "stream",
     "text": [
      "5.04\n",
      "6.05\n"
     ]
    }
   ],
   "source": [
    "ans=total(x=2,y=3,z=4)\n",
    "print(ans)\n",
    "ans=total(y=2,x=4,z=5)\n",
    "print(ans)"
   ]
  },
  {
   "cell_type": "code",
   "execution_count": 10,
   "metadata": {},
   "outputs": [],
   "source": [
    "def total(x,y,z=12):\n",
    "    return x+y+z*0.03\n"
   ]
  },
  {
   "cell_type": "code",
   "execution_count": 11,
   "metadata": {},
   "outputs": [
    {
     "name": "stdout",
     "output_type": "stream",
     "text": [
      "18.36\n"
     ]
    }
   ],
   "source": [
    "total(3,10)\n",
    "print(total_2(3,15,12))\n"
   ]
  },
  {
   "cell_type": "code",
   "execution_count": 12,
   "metadata": {},
   "outputs": [],
   "source": [
    "def area(l=1,b=1):\n",
    "    return l*b"
   ]
  },
  {
   "cell_type": "code",
   "execution_count": 15,
   "metadata": {},
   "outputs": [
    {
     "name": "stdout",
     "output_type": "stream",
     "text": [
      "1\n",
      "10\n",
      "150\n"
     ]
    }
   ],
   "source": [
    "print(area())\n",
    "print(area(10))\n",
    "print(area(10,15))\n"
   ]
  },
  {
   "cell_type": "code",
   "execution_count": 25,
   "metadata": {},
   "outputs": [],
   "source": [
    "def average(*numbers):\n",
    "    if len(numbers)>1:\n",
    "        return sum(numbers) / len(numbers)"
   ]
  },
  {
   "cell_type": "code",
   "execution_count": 26,
   "metadata": {},
   "outputs": [
    {
     "name": "stdout",
     "output_type": "stream",
     "text": [
      "4.0\n",
      "None\n"
     ]
    }
   ],
   "source": [
    "print(average(1,2,3,4,5,6,7))\n",
    "print(average())"
   ]
  },
  {
   "cell_type": "code",
   "execution_count": 28,
   "metadata": {},
   "outputs": [],
   "source": [
    "# my restaurent\n",
    "def menu(**products):\n",
    "    for k,v in products.items():\n",
    "        print(f'✔️{k:21}|rs.{v:4}')"
   ]
  },
  {
   "cell_type": "code",
   "execution_count": 29,
   "metadata": {},
   "outputs": [
    {
     "name": "stdout",
     "output_type": "stream",
     "text": [
      "✔️chat                 |rs. 200\n",
      "✔️idli                 |rs. 200\n",
      "✔️chole_bhature        |rs. 120\n",
      "✔️naan                 |rs.  12\n",
      "✔️kulcha               |rs.  15\n"
     ]
    }
   ],
   "source": [
    "menu(chat=200,idli=200,chole_bhature=120,naan=12,kulcha=15)\n"
   ]
  },
  {
   "cell_type": "code",
   "execution_count": 30,
   "metadata": {},
   "outputs": [
    {
     "name": "stdout",
     "output_type": "stream",
     "text": [
      "✔️tea                  |rs.  15\n",
      "✔️cold_coffee          |rs.  25\n",
      "✔️cookies              |rs.  40\n",
      "✔️mocha                |rs.  30\n"
     ]
    }
   ],
   "source": [
    "#csb\n",
    "menu(tea=15,cold_coffee=25,cookies=40,mocha=30)"
   ]
  },
  {
   "cell_type": "code",
   "execution_count": null,
   "metadata": {},
   "outputs": [],
   "source": []
  }
 ],
 "metadata": {
  "kernelspec": {
   "display_name": "Python 3",
   "language": "python",
   "name": "python3"
  },
  "language_info": {
   "codemirror_mode": {
    "name": "ipython",
    "version": 3
   },
   "file_extension": ".py",
   "mimetype": "text/x-python",
   "name": "python",
   "nbconvert_exporter": "python",
   "pygments_lexer": "ipython3",
   "version": "3.9.13"
  },
  "orig_nbformat": 4,
  "vscode": {
   "interpreter": {
    "hash": "3ae485a1c4d68c3adf0d3266c3715cbc8e763f16da5c66ddfd038f6be2e879fa"
   }
  }
 },
 "nbformat": 4,
 "nbformat_minor": 2
}
