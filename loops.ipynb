{
 "cells": [
  {
   "cell_type": "code",
   "execution_count": 2,
   "metadata": {},
   "outputs": [
    {
     "name": "stdout",
     "output_type": "stream",
     "text": [
      "total apps = 20\n"
     ]
    }
   ],
   "source": [
    "apps=['playstore','fb','whatsapp','message','camera','gallery','clock','calander','calculator','apex','notes','amazon','telegram','netflix','prime','hotstar','bms','mangazone','tachiyomi','reddit']\n",
    "print(f'total apps = {len(apps)}')\n"
   ]
  },
  {
   "cell_type": "code",
   "execution_count": 3,
   "metadata": {},
   "outputs": [
    {
     "name": "stdout",
     "output_type": "stream",
     "text": [
      "playstore\n",
      "fb\n",
      "whatsapp\n",
      "message\n",
      "camera\n",
      "gallery\n",
      "clock\n",
      "calander\n",
      "calculator\n",
      "apex\n",
      "notes\n",
      "amazon\n",
      "telegram\n",
      "netflix\n",
      "prime\n",
      "hotstar\n",
      "bms\n",
      "mangazone\n",
      "tachiyomi\n",
      "reddit\n"
     ]
    }
   ],
   "source": [
    "for app in apps:\n",
    "    print(app)"
   ]
  },
  {
   "cell_type": "code",
   "execution_count": 5,
   "metadata": {},
   "outputs": [
    {
     "name": "stdout",
     "output_type": "stream",
     "text": [
      "playstore       | 9\n",
      "fb              | 2\n",
      "whatsapp        | 8\n",
      "message         | 7\n",
      "camera          | 6\n",
      "gallery         | 7\n",
      "clock           | 5\n",
      "calander        | 8\n",
      "calculator      | 10\n",
      "apex            | 4\n",
      "notes           | 5\n",
      "amazon          | 6\n",
      "telegram        | 8\n",
      "netflix         | 7\n",
      "prime           | 5\n",
      "hotstar         | 7\n",
      "bms             | 3\n",
      "mangazone       | 9\n",
      "tachiyomi       | 9\n",
      "reddit          | 6\n"
     ]
    }
   ],
   "source": [
    "for app in apps:\n",
    "    print(f'{app:15} | {len(app)}')\n",
    "    "
   ]
  }
 ],
 "metadata": {
  "kernelspec": {
   "display_name": "Python 3",
   "language": "python",
   "name": "python3"
  },
  "language_info": {
   "codemirror_mode": {
    "name": "ipython",
    "version": 3
   },
   "file_extension": ".py",
   "mimetype": "text/x-python",
   "name": "python",
   "nbconvert_exporter": "python",
   "pygments_lexer": "ipython3",
   "version": "3.9.13"
  },
  "orig_nbformat": 4,
  "vscode": {
   "interpreter": {
    "hash": "3ae485a1c4d68c3adf0d3266c3715cbc8e763f16da5c66ddfd038f6be2e879fa"
   }
  }
 },
 "nbformat": 4,
 "nbformat_minor": 2
}
