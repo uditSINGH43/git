{
 "cells": [
  {
   "cell_type": "code",
   "execution_count": 2,
   "metadata": {},
   "outputs": [
    {
     "name": "stdout",
     "output_type": "stream",
     "text": [
      "total apps = 20\n"
     ]
    }
   ],
   "source": [
    "apps=['playstore','fb','whatsapp','message','camera','gallery','clock','calander','calculator','apex','notes','amazon','telegram','netflix','prime','hotstar','bms','mangazone','tachiyomi','reddit']\n",
    "print(f'total apps = {len(apps)}')\n"
   ]
  },
  {
   "cell_type": "code",
   "execution_count": 3,
   "metadata": {},
   "outputs": [
    {
     "name": "stdout",
     "output_type": "stream",
     "text": [
      "playstore\n",
      "fb\n",
      "whatsapp\n",
      "message\n",
      "camera\n",
      "gallery\n",
      "clock\n",
      "calander\n",
      "calculator\n",
      "apex\n",
      "notes\n",
      "amazon\n",
      "telegram\n",
      "netflix\n",
      "prime\n",
      "hotstar\n",
      "bms\n",
      "mangazone\n",
      "tachiyomi\n",
      "reddit\n"
     ]
    }
   ],
   "source": [
    "for app in apps:\n",
    "    print(app)"
   ]
  },
  {
   "cell_type": "code",
   "execution_count": 5,
   "metadata": {},
   "outputs": [
    {
     "name": "stdout",
     "output_type": "stream",
     "text": [
      "playstore       | 9\n",
      "fb              | 2\n",
      "whatsapp        | 8\n",
      "message         | 7\n",
      "camera          | 6\n",
      "gallery         | 7\n",
      "clock           | 5\n",
      "calander        | 8\n",
      "calculator      | 10\n",
      "apex            | 4\n",
      "notes           | 5\n",
      "amazon          | 6\n",
      "telegram        | 8\n",
      "netflix         | 7\n",
      "prime           | 5\n",
      "hotstar         | 7\n",
      "bms             | 3\n",
      "mangazone       | 9\n",
      "tachiyomi       | 9\n",
      "reddit          | 6\n"
     ]
    }
   ],
   "source": [
    "for app in apps:\n",
    "    print(f'{app:15} | {len(app)}')\n",
    "    "
   ]
  },
  {
   "cell_type": "code",
   "execution_count": 4,
   "metadata": {},
   "outputs": [
    {
     "name": "stdout",
     "output_type": "stream",
     "text": [
      "total apps = 20\n"
     ]
    }
   ],
   "source": [
    "apps=['playstore','fb','whatsapp','message','camera','gallery','clock','calander','calculator','apex','notes','amazon','telegram','netflix','prime','hotstar','bms','mangazone','tachiyomi','reddit']\n",
    "print(f'total apps = {len(apps)}')\n"
   ]
  },
  {
   "cell_type": "code",
   "execution_count": 5,
   "metadata": {},
   "outputs": [
    {
     "name": "stdout",
     "output_type": "stream",
     "text": [
      "calander\n",
      "notes\n",
      "amazon\n",
      "netflix\n",
      "mangazone\n"
     ]
    }
   ],
   "source": [
    "for app in apps:\n",
    "    if 'n' in app:\n",
    "        print(app)"
   ]
  },
  {
   "cell_type": "code",
   "execution_count": 6,
   "metadata": {},
   "outputs": [
    {
     "name": "stdout",
     "output_type": "stream",
     "text": [
      "bms\n"
     ]
    }
   ],
   "source": [
    "for app in apps:\n",
    "    if app.startswith(\"b\"):\n",
    "        print(app)"
   ]
  },
  {
   "cell_type": "code",
   "execution_count": 8,
   "metadata": {},
   "outputs": [
    {
     "name": "stdout",
     "output_type": "stream",
     "text": [
      "51\n",
      "25\n",
      "10\n",
      "62\n"
     ]
    }
   ],
   "source": [
    "data = [51,25,10,62,0,10,0,12,0,0,25]\n",
    "for i in data:\n",
    "    if i == 0:\n",
    "        break\n",
    "    print(i)"
   ]
  },
  {
   "cell_type": "code",
   "execution_count": 9,
   "metadata": {},
   "outputs": [
    {
     "name": "stdout",
     "output_type": "stream",
     "text": [
      "51\n",
      "25\n",
      "10\n",
      "62\n",
      "10\n",
      "12\n",
      "25\n"
     ]
    }
   ],
   "source": [
    "data = [51,25,10,62,0,10,0,12,0,0,25]\n",
    "for i in data:\n",
    "    if i == 0:\n",
    "        continue\n",
    "    print(i)"
   ]
  },
  {
   "cell_type": "code",
   "execution_count": 14,
   "metadata": {},
   "outputs": [
    {
     "name": "stdout",
     "output_type": "stream",
     "text": [
      "(0, 'playstore')\n",
      "(1, 'fb')\n",
      "(2, 'whatsapp')\n",
      "(3, 'message')\n",
      "(4, 'camera')\n",
      "(5, 'gallery')\n",
      "(6, 'clock')\n",
      "(7, 'calander')\n",
      "(8, 'calculator')\n",
      "(9, 'apex')\n",
      "(10, 'notes')\n",
      "(11, 'amazon')\n",
      "(12, 'telegram')\n",
      "(13, 'netflix')\n",
      "(14, 'prime')\n",
      "(15, 'hotstar')\n",
      "(16, 'bms')\n",
      "(17, 'mangazone')\n",
      "(18, 'tachiyomi')\n",
      "(19, 'reddit')\n"
     ]
    }
   ],
   "source": [
    "for app in enumerate(apps):\n",
    "    print(app)"
   ]
  },
  {
   "cell_type": "code",
   "execution_count": 11,
   "metadata": {},
   "outputs": [
    {
     "name": "stdout",
     "output_type": "stream",
     "text": [
      "0 playstore\n",
      "1 fb\n",
      "2 whatsapp\n",
      "3 message\n",
      "4 camera\n",
      "5 gallery\n",
      "6 clock\n",
      "7 calander\n",
      "8 calculator\n",
      "9 apex\n",
      "10 notes\n",
      "11 amazon\n",
      "12 telegram\n",
      "13 netflix\n",
      "14 prime\n",
      "15 hotstar\n",
      "16 bms\n",
      "17 mangazone\n",
      "18 tachiyomi\n",
      "19 reddit\n"
     ]
    }
   ],
   "source": [
    "for i, app in enumerate(apps):\n",
    "    print(i, app)"
   ]
  },
  {
   "cell_type": "code",
   "execution_count": 12,
   "metadata": {},
   "outputs": [
    {
     "name": "stdout",
     "output_type": "stream",
     "text": [
      "playstore\n",
      "fb\n",
      "whatsapp\n",
      "message\n",
      "camera\n",
      "gallery\n",
      "clock\n",
      "calander\n",
      "calculator\n",
      "apex\n",
      "notes\n"
     ]
    }
   ],
   "source": [
    "for i, app in enumerate(apps):\n",
    "    if i>10:\n",
    "        break\n",
    "    print(app)"
   ]
  }
 ],
 "metadata": {
  "kernelspec": {
   "display_name": "Python 3",
   "language": "python",
   "name": "python3"
  },
  "language_info": {
   "codemirror_mode": {
    "name": "ipython",
    "version": 3
   },
   "file_extension": ".py",
   "mimetype": "text/x-python",
   "name": "python",
   "nbconvert_exporter": "python",
   "pygments_lexer": "ipython3",
   "version": "3.9.13"
  },
  "orig_nbformat": 4,
  "vscode": {
   "interpreter": {
    "hash": "3ae485a1c4d68c3adf0d3266c3715cbc8e763f16da5c66ddfd038f6be2e879fa"
   }
  }
 },
 "nbformat": 4,
 "nbformat_minor": 2
}
